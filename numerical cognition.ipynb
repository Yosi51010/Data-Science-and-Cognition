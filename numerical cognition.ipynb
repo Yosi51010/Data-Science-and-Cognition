{
 "cells": [
  {
   "cell_type": "markdown",
   "metadata": {},
   "source": [
    "## Number estimation"
   ]
  },
  {
   "cell_type": "code",
   "execution_count": 2,
   "metadata": {},
   "outputs": [],
   "source": [
    "import matplotlib.pyplot as plt\n",
    "import numpy as np\n",
    "import pandas as pd"
   ]
  },
  {
   "cell_type": "markdown",
   "metadata": {},
   "source": [
    "The target number (i.e. ground truth) for each experimental trial is provided in the following numpy array."
   ]
  },
  {
   "cell_type": "code",
   "execution_count": 3,
   "metadata": {},
   "outputs": [],
   "source": [
    "targets = np.array([3, 8, 40, 2, 5, 30, 7, 35, 6, 15, 10, 20, 9, 25, 4])"
   ]
  },
  {
   "cell_type": "markdown",
   "metadata": {},
   "source": [
    "Read in the experimental data collected in-class. `df` is a dataframe of size _(Participants x Trials)_."
   ]
  },
  {
   "cell_type": "code",
   "execution_count": 4,
   "metadata": {},
   "outputs": [],
   "source": [
    "df = pd.read_csv('data-number-estimation.csv')"
   ]
  },
  {
   "cell_type": "markdown",
   "metadata": {},
   "source": [
    "#### We hypothesize that participants make little to no errors when estimating the count for 3 or less dots and make minimal mistakes when shown clusters of 4 to 7 dots. Our hypothesis is based on the work of Mandler & Shebo (1982) who discovered pronounced accuracy in trials with array sizes under 4 and a response with minimal errors where arrays ranged in size from 4 to 7."
   ]
  },
  {
   "cell_type": "code",
   "execution_count": 11,
   "metadata": {},
   "outputs": [
    {
     "data": {
      "image/png": "[encoded data removed]",
      "text/plain": [
       "<Figure size 432x288 with 1 Axes>"
      ]
     },
     "metadata": {
      "needs_background": "light"
     },
     "output_type": "display_data"
    }
   ],
   "source": [
    "# subtract each element in each column by its corresponding element in targets\n",
    "# We square-rooted the mse to have a smaller scale and improve visibility\n",
    "ME = np.asarray(df.sub(targets).pow(2).mean().pow(0.5))\n",
    "me_d = pd.DataFrame({'target': targets, 'mean error': ME}, index=targets).sort_index()\n",
    "plot = me_d.plot.bar(x='target', rot=0, subplots=True)\n",
    "# Shows the Mean Error (ME) for each trial, sorted in increasing order of target number"
   ]
  },
  {
   "cell_type": "code",
   "execution_count": 12,
   "metadata": {},
   "outputs": [
    {
     "data": {
      "text/plain": [
       "target        7.000000\n",
       "mean error    0.785507\n",
       "Name: 7, dtype: float64"
      ]
     },
     "execution_count": 12,
     "metadata": {},
     "output_type": "execute_result"
    }
   ],
   "source": [
    "me_d.loc[7]"
   ]
  },
  {
   "cell_type": "code",
   "execution_count": 13,
   "metadata": {},
   "outputs": [
    {
     "data": {
      "text/plain": [
       "target        8.00000\n",
       "mean error    1.27996\n",
       "Name: 8, dtype: float64"
      ]
     },
     "execution_count": 13,
     "metadata": {},
     "output_type": "execute_result"
    }
   ],
   "source": [
    "me_d.loc[8]"
   ]
  },
  {
   "cell_type": "markdown",
   "metadata": {},
   "source": [
    "#### There is no error for clusters of 3 and an extremely little mean error for clusters of 2 dots. Clusters of 8 and more dots have a mean error that is higher than 1 that is proportionally increasing with cluster size."
   ]
  },
  {
   "cell_type": "markdown",
   "metadata": {},
   "source": [
    "#### Limitations: \n",
    "1) We don't consider the effects of confounding variables such as:\n",
    "a) the colors of the points b) the distance between participants and the points c) the amount of clustering\n",
    "d) demographic distribution of the participants\n",
    "\n",
    "2) Our analysis is based on the average error between the participants' guess and the target for each trial. But analyzing the amount of consensus between participants may yield a different result"
   ]
  },
  {
   "cell_type": "markdown",
   "metadata": {},
   "source": [
    "#### Our results align with our hypothesis since the trials with a  target number above the value 7 have mean errors that are noticeably higher.\n",
    "#### Future studies should investigate the effect of clustering on visual estimation."
   ]
  }
 ],
 "metadata": {
  "anaconda-cloud": {},
  "kernelspec": {
   "display_name": "Python 3 (ipykernel)",
   "language": "python",
   "name": "python3"
  },
  "language_info": {
   "codemirror_mode": {
    "name": "ipython",
    "version": 3
   },
   "file_extension": ".py",
   "mimetype": "text/x-python",
   "name": "python",
   "nbconvert_exporter": "python",
   "pygments_lexer": "ipython3",
   "version": "3.8.9"
  }
 },
 "nbformat": 4,
 "nbformat_minor": 4
}
